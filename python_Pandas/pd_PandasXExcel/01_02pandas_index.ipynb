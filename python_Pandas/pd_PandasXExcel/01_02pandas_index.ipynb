{
 "cells": [
  {
   "cell_type": "code",
   "execution_count": 2,
   "metadata": {},
   "outputs": [],
   "source": [
    "# ! pip install pandas\n",
    "# ! pip install openpyxl  #如不会报错moduel缺失\n",
    "\n",
    "import pandas as pd\n"
   ]
  },
  {
   "cell_type": "code",
   "execution_count": null,
   "metadata": {},
   "outputs": [],
   "source": [
    "gglp_df = pd.read_excel('GG兜底LP.xlsx')"
   ]
  },
  {
   "cell_type": "markdown",
   "metadata": {},
   "source": [
    "## 设置index\n",
    "pd.df会自动创建index column"
   ]
  },
  {
   "cell_type": "markdown",
   "metadata": {},
   "source": [
    "### 删除自动生成的index"
   ]
  },
  {
   "cell_type": "code",
   "execution_count": 4,
   "metadata": {},
   "outputs": [
    {
     "name": "stdout",
     "output_type": "stream",
     "text": [
      "Index(['countryname', 'result', 'existing country code',\n",
      "       '    <Match status='yes' country='US' />',\n",
      "       '    <Match status='never' country='GB' />', 'Unnamed: 6'],\n",
      "      dtype='object')\n",
      "Index(['countryname', 'result', 'existing country code',\n",
      "       '    <Match status='yes' country='US' />',\n",
      "       '    <Match status='never' country='GB' />', 'Unnamed: 6'],\n",
      "      dtype='object')\n"
     ]
    }
   ],
   "source": [
    "# 方法1: 创建新df，设置第一列为数据起始列\n",
    "gglp_df_4 = gglp_df.set_index('countrycode') #创建新df\n",
    "print(gglp_df_4.columns)\n",
    "\n",
    "\n",
    "# 方法2: 修改原df\n",
    "# df.set_index('column_name',inplace = True) #把该列作为index列\n",
    "gglp_df.set_index(\"countrycode\", inplace=True)\n",
    "print(gglp_df.columns)\n",
    "\n",
    "\n",
    "# 注意：index vs. columns\n",
    "# 此时df.columns中不含countrycode列，因为index不算column"
   ]
  },
  {
   "cell_type": "markdown",
   "metadata": {},
   "source": [
    "### 读取excel时，直接指定index\n",
    "\n",
    "读取时：可以输入pd.read_excel(oi,index_col = '列名'), 这样pandas的df直接就以此列为index，而不会额外创建index_column"
   ]
  },
  {
   "cell_type": "code",
   "execution_count": 3,
   "metadata": {},
   "outputs": [
    {
     "name": "stdout",
     "output_type": "stream",
     "text": [
      "Index(['countryname', 'result', 'existing country code',\n",
      "       '    <Match status='yes' country='US' />',\n",
      "       '    <Match status='never' country='GB' />', 'Unnamed: 6'],\n",
      "      dtype='object')\n"
     ]
    }
   ],
   "source": [
    "gglp_df_5 = pd.read_excel('GG兜底LP.xlsx', index_col='countrycode')\n",
    "print(gglp_df_5.columns)"
   ]
  }
 ],
 "metadata": {
  "kernelspec": {
   "display_name": "Python 3",
   "language": "python",
   "name": "python3"
  },
  "language_info": {
   "codemirror_mode": {
    "name": "ipython",
    "version": 3
   },
   "file_extension": ".py",
   "mimetype": "text/x-python",
   "name": "python",
   "nbconvert_exporter": "python",
   "pygments_lexer": "ipython3",
   "version": "3.12.1"
  }
 },
 "nbformat": 4,
 "nbformat_minor": 2
}
