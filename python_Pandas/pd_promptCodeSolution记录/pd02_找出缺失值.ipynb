{
 "cells": [
  {
   "cell_type": "markdown",
   "metadata": {},
   "source": [
    "## prompt\n",
    "\n",
    "对比Code列和Currency列:\n",
    "1. 将Code列中有的但是Currency列中没有的内容，提取出列成column_a\n",
    "2. 将Currency列中有的，但是Code列中没有的，提取出列成column_b"
   ]
  },
  {
   "cell_type": "code",
   "execution_count": null,
   "metadata": {},
   "outputs": [],
   "source": [
    "import pandas as pd\n",
    "\n",
    "# 加载 Excel 文件\n",
    "file_path = 'path_to_your_file.xlsx'\n",
    "data = pd.read_excel(file_path)\n",
    "\n",
    "# 打印列名以确认是否正确\n",
    "print(\"Columns:\", data.columns)\n",
    "\n",
    "# 清理列中的空格\n",
    "data['Code'] = data['Code'].astype(str).str.strip()\n",
    "data['Currency'] = data['Currency'].astype(str).str.strip()\n",
    "\n",
    "# 比较 'Code' 和 'Currency'\n",
    "code_column = data['Code']\n",
    "currency_column = data['Currency']\n",
    "\n",
    "# 找出 'Code' 中有但 'Currency' 中没有的值\n",
    "unique_to_code = code_column[~code_column.isin(currency_column)].dropna()\n",
    "\n",
    "# 找出 'Currency' 中有但 'Code' 中没有的值\n",
    "unique_to_currency = currency_column[~currency_column.isin(code_column)].dropna()\n",
    "\n",
    "# 打印调试信息\n",
    "print(\"Unique to Code:\", unique_to_code)\n",
    "print(\"Unique to Currency:\", unique_to_currency)\n",
    "\n",
    "# 如果结果为空，提示可能的问题\n",
    "if unique_to_code.empty:\n",
    "    print(\"No unique values in 'Code' compared to 'Currency'.\")\n",
    "if unique_to_currency.empty:\n",
    "    print(\"No unique values in 'Currency' compared to 'Code'.\")\n",
    "\n",
    "# 保存结果到 Excel\n",
    "result_a = pd.DataFrame(unique_to_code, columns=[\"Unique_to_Code\"])\n",
    "result_b = pd.DataFrame(unique_to_currency, columns=[\"Unique_to_Currency\"])\n",
    "\n",
    "output_file_path = 'Unique_Values.xlsx'\n",
    "with pd.ExcelWriter(output_file_path) as writer:\n",
    "    result_a.to_excel(writer, sheet_name=\"Unique_to_Code\", index=False)\n",
    "    result_b.to_excel(writer, sheet_name=\"Unique_to_Currency\", index=False)\n",
    "\n",
    "print(f\"Results saved to {output_file_path}\")\n"
   ]
  },
  {
   "cell_type": "markdown",
   "metadata": {},
   "source": [
    "## 等效Excel方法\n",
    "\n",
    "1. 在一个新的列中使用公式=IF(ISERROR(MATCH(A2, B:B, 0)), A2, \"Yes\")，其中A2是Code列的第一个单元格，B:B是Currency列。\n",
    "2. Yes为匹配内容；返回的A2内容就是A列中有而B列中没有的内容。\n"
   ]
  }
 ],
 "metadata": {
  "language_info": {
   "name": "python"
  }
 },
 "nbformat": 4,
 "nbformat_minor": 2
}
