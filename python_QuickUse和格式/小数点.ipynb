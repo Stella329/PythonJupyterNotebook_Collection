{
 "cells": [
  {
   "cell_type": "markdown",
   "metadata": {},
   "source": [
    "# Decimal Display Format"
   ]
  },
  {
   "cell_type": "code",
   "execution_count": null,
   "metadata": {},
   "outputs": [],
   "source": [
    "# 方法一： str.format （new）\n",
    "\n",
    "number = 3.14159\n",
    "formatted_number = \"{:.2f}\".format(number) # Formats to 2 decimal places\n",
    "print(formatted_number) # Output: 3.14"
   ]
  },
  {
   "cell_type": "code",
   "execution_count": null,
   "metadata": {},
   "outputs": [],
   "source": [
    "# 方法二： f-string （new） --Python 3.6+\n",
    "\n",
    "number = 3.14159\n",
    "formatted_number = f\"{number:.2f}\" # Formats to 2 decimal places\n",
    "print(formatted_number) # Output: 3.14"
   ]
  },
  {
   "cell_type": "code",
   "execution_count": null,
   "metadata": {},
   "outputs": [],
   "source": [
    "# Old-style formatting: python\n",
    "number = 3.14159\n",
    "formatted_number = \"%.2f\" % number # Formats to 2 decimal places\n",
    "print(formatted_number) # Output: 3.14"
   ]
  },
  {
   "cell_type": "markdown",
   "metadata": {},
   "source": [
    "---"
   ]
  },
  {
   "cell_type": "code",
   "execution_count": null,
   "metadata": {},
   "outputs": [],
   "source": [
    "# 方法三： round() function\n",
    "\n",
    "number = 3.14159\n",
    "rounded_number = round(number, 2) # Rounds to 2 decimal places\n",
    "print(rounded_number) # Output: 3.14"
   ]
  },
  {
   "cell_type": "markdown",
   "metadata": {},
   "source": [
    "---"
   ]
  },
  {
   "cell_type": "code",
   "execution_count": null,
   "metadata": {},
   "outputs": [],
   "source": [
    "# 方法四：pandas\n",
    "\n",
    "pd.options.display.float_format = '{:.1f}'.format # set the display format: one decimal place 保留小数点后一位 \n",
    "X_df =pd.DataFrame(x) # creates a DataFrame named X_df from the array x.\n",
    "print(X_df.describe()) #  Generates descriptive statistics for the DataFrame, including count, mean, standard deviation, min, max, and the 25th, 50th, and 75th percentiles for each column."
   ]
  },
  {
   "cell_type": "code",
   "execution_count": null,
   "metadata": {},
   "outputs": [],
   "source": [
    "# 方法五：numpy for arrays:\n",
    "\n",
    "import numpy as np\n",
    "array = np.array([3.14159, 2.71828, 1.61803])\n",
    "formatted_array = np.round(array, 2) # Rounds each element to 2 decimal places\n",
    "print(formatted_array) # Output: [3.14 2.72 1.62]"
   ]
  }
 ],
 "metadata": {
  "language_info": {
   "name": "python"
  }
 },
 "nbformat": 4,
 "nbformat_minor": 2
}
