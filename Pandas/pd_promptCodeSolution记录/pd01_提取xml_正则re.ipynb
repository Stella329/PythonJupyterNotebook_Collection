{
 "cells": [
  {
   "cell_type": "markdown",
   "metadata": {},
   "source": [
    "## prompt\n",
    "\n",
    "轮询每一行代码，提取\"\"中内容，并分别放在两列中。例子如下：\n",
    "<Match status=\"yes\" currency=\"CAD\" /> 提取成：\n",
    "yes   CAD "
   ]
  },
  {
   "cell_type": "code",
   "execution_count": null,
   "metadata": {},
   "outputs": [],
   "source": [
    "import re\n",
    "import pandas as pd\n",
    "\n",
    "# Define the content to process\n",
    "content = \"\"\"\n",
    "<Match status=\"yes\" currency=\"CAD\" />\n",
    "<Match status=\"yes\" currency=\"CHF\" />\n",
    "<Match status=\"yes\" currency=\"CNY\" />\n",
    "<Match status=\"yes\" currency=\"DKK\" />\n",
    "<Match status=\"yes\" currency=\"EUR\" />\n",
    "<Match status=\"yes\" currency=\"GBP\" />\n",
    "<Match status=\"yes\" currency=\"HKD\" />\n",
    "<Match status=\"yes\" currency=\"IDR\" />\n",
    "<Match status=\"yes\" currency=\"JPY\" />\n",
    "<Match status=\"yes\" currency=\"KRW\" />\n",
    "<Match status=\"yes\" currency=\"MOP\" />\n",
    "<Match status=\"yes\" currency=\"MYR\" />\n",
    "<Match status=\"yes\" currency=\"NZD\" />\n",
    "<Match status=\"yes\" currency=\"PHP\" />\n",
    "<Match status=\"yes\" currency=\"RUB\" />\n",
    "<Match status=\"yes\" currency=\"SEK\" />\n",
    "<Match status=\"yes\" currency=\"SGD\" />\n",
    "<Match status=\"yes\" currency=\"THB\" />\n",
    "<Match status=\"yes\" currency=\"TWD\" />\n",
    "<Match status=\"yes\" currency=\"USD\" />\n",
    "<Match status=\"yes\" currency=\"VND\" />\n",
    "<Match status=\"yes\" currency=\"PLN\" />\n",
    "<Match status=\"yes\" currency=\"BRL\" />\n",
    "<Match status=\"yes\" currency=\"INR\" />\n",
    "<Match status=\"yes\" currency=\"AED\" />\n",
    "<Match status=\"yes\" currency=\"AUD\" />\n",
    "<Match status=\"yes\" currency=\"SAR\" />\n",
    "<Match status=\"yes\" currency=\"TRY\" />\n",
    "<Match status=\"yes\" currency=\"MXN\" />\n",
    "<Match status=\"yes\" currency=\"ARS\" />\n",
    "\"\"\"\n",
    "\n",
    "# Use regex to extract \"status\" and \"currency\" values\n",
    "matches = re.findall(r'<Match status=\"(.*?)\" currency=\"(.*?)\" />', content)\n",
    "\n",
    "# Create a DataFrame from the extracted data\n",
    "df = pd.DataFrame(matches, columns=[\"Status\", \"Currency\"])\n",
    "\n",
    "# Display the DataFrame to the user\n",
    "import ace_tools as tools; tools.display_dataframe_to_user(name=\"Extracted Status and Currency\", dataframe=df)\n"
   ]
  },
  {
   "cell_type": "markdown",
   "metadata": {},
   "source": []
  }
 ],
 "metadata": {
  "language_info": {
   "name": "python"
  }
 },
 "nbformat": 4,
 "nbformat_minor": 2
}
